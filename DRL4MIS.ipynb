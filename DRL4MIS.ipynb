{
 "cells": [
  {
   "cell_type": "code",
   "execution_count": 4,
   "metadata": {},
   "outputs": [
    {
     "ename": "NameError",
     "evalue": "name 'torch' is not defined",
     "output_type": "error",
     "traceback": [
      "\u001b[0;31m---------------------------------------------------------------------------\u001b[0m",
      "\u001b[0;31mNameError\u001b[0m                                 Traceback (most recent call last)",
      "Cell \u001b[0;32mIn[4], line 51\u001b[0m\n\u001b[1;32m     48\u001b[0m         state[\u001b[38;5;28mlist\u001b[39m(\u001b[38;5;28mself\u001b[39m\u001b[38;5;241m.\u001b[39mavailable_nodes)] \u001b[38;5;241m=\u001b[39m \u001b[38;5;241m0.5\u001b[39m\n\u001b[1;32m     49\u001b[0m         \u001b[38;5;28;01mreturn\u001b[39;00m state\n\u001b[0;32m---> 51\u001b[0m \u001b[38;5;28;01mclass\u001b[39;00m \u001b[38;5;21;01mFlexibleFeatureExtractor\u001b[39;00m(BaseFeaturesExtractor):\n\u001b[1;32m     52\u001b[0m     \u001b[38;5;28;01mdef\u001b[39;00m \u001b[38;5;21m__init__\u001b[39m(\u001b[38;5;28mself\u001b[39m, observation_space: gym\u001b[38;5;241m.\u001b[39mspaces\u001b[38;5;241m.\u001b[39mBox, features_dim: \u001b[38;5;28mint\u001b[39m \u001b[38;5;241m=\u001b[39m \u001b[38;5;241m64\u001b[39m):\n\u001b[1;32m     53\u001b[0m         \u001b[38;5;28msuper\u001b[39m(FlexibleFeatureExtractor, \u001b[38;5;28mself\u001b[39m)\u001b[38;5;241m.\u001b[39m\u001b[38;5;21m__init__\u001b[39m(observation_space, features_dim\u001b[38;5;241m=\u001b[39mfeatures_dim)\n",
      "Cell \u001b[0;32mIn[4], line 62\u001b[0m, in \u001b[0;36mFlexibleFeatureExtractor\u001b[0;34m()\u001b[0m\n\u001b[1;32m     54\u001b[0m     n_input \u001b[38;5;241m=\u001b[39m observation_space\u001b[38;5;241m.\u001b[39mshape[\u001b[38;5;241m0\u001b[39m]\n\u001b[1;32m     55\u001b[0m     \u001b[38;5;28mself\u001b[39m\u001b[38;5;241m.\u001b[39mnet \u001b[38;5;241m=\u001b[39m nn\u001b[38;5;241m.\u001b[39mSequential(\n\u001b[1;32m     56\u001b[0m         nn\u001b[38;5;241m.\u001b[39mLinear(n_input, \u001b[38;5;241m128\u001b[39m),\n\u001b[1;32m     57\u001b[0m         nn\u001b[38;5;241m.\u001b[39mReLU(),\n\u001b[1;32m     58\u001b[0m         nn\u001b[38;5;241m.\u001b[39mLinear(\u001b[38;5;241m128\u001b[39m, features_dim),\n\u001b[1;32m     59\u001b[0m         nn\u001b[38;5;241m.\u001b[39mReLU()\n\u001b[1;32m     60\u001b[0m     )\n\u001b[0;32m---> 62\u001b[0m \u001b[38;5;28;01mdef\u001b[39;00m \u001b[38;5;21mforward\u001b[39m(\u001b[38;5;28mself\u001b[39m, observations: torch\u001b[38;5;241m.\u001b[39mTensor) \u001b[38;5;241m-\u001b[39m\u001b[38;5;241m>\u001b[39m torch\u001b[38;5;241m.\u001b[39mTensor:\n\u001b[1;32m     63\u001b[0m     \u001b[38;5;28;01mreturn\u001b[39;00m \u001b[38;5;28mself\u001b[39m\u001b[38;5;241m.\u001b[39mnet(observations)\n",
      "\u001b[0;31mNameError\u001b[0m: name 'torch' is not defined"
     ]
    }
   ],
   "source": [
    "import gymnasium as gym\n",
    "import numpy as np\n",
    "from gymnasium import spaces\n",
    "from stable_baselines3 import PPO\n",
    "from stable_baselines3.common.vec_env import DummyVecEnv\n",
    "from stable_baselines3.common.torch_layers import BaseFeaturesExtractor\n",
    "import torch.nn as nn\n",
    "import networkx as nx\n",
    "import matplotlib.pyplot as plt\n",
    "\n",
    "\n",
    "\n",
    "class FlexibleMISEnvironment(gym.Env):\n",
    "    def __init__(self, adjacency_matrix):\n",
    "        super(FlexibleMISEnvironment, self).__init__()\n",
    "        self.adj_matrix = np.array(adjacency_matrix)\n",
    "        self.num_nodes = len(adjacency_matrix)\n",
    "        \n",
    "        # Define action and observation space\n",
    "        self.action_space = spaces.Discrete(self.num_nodes)\n",
    "        self.observation_space = spaces.Box(low=0, high=1, shape=(self.num_nodes,), dtype=np.float32)\n",
    "\n",
    "    def reset(self, seed=None, options=None):\n",
    "        super().reset(seed=seed)\n",
    "        self.current_set = set()\n",
    "        self.available_nodes = set(range(self.num_nodes))\n",
    "        return self._get_state(), {}  # Return state and info dict\n",
    "\n",
    "    def step(self, action):\n",
    "        reward = 0\n",
    "        terminated = False\n",
    "        truncated = False\n",
    "        \n",
    "        if action in self.available_nodes:\n",
    "            self.current_set.add(action)\n",
    "            self.available_nodes -= set([action] + np.where(self.adj_matrix[action] == 1)[0].tolist())\n",
    "            reward = 1\n",
    "            terminated = len(self.available_nodes) == 0\n",
    "        else:\n",
    "            reward = -1\n",
    "            terminated = True\n",
    "        \n",
    "        return self._get_state(), reward, terminated, truncated, {}  # State, reward, terminated, truncated, info\n",
    "\n",
    "    def _get_state(self):\n",
    "        state = np.zeros(self.num_nodes, dtype=np.float32)\n",
    "        state[list(self.current_set)] = 1\n",
    "        state[list(self.available_nodes)] = 0.5\n",
    "        return state\n",
    "\n",
    "class FlexibleFeatureExtractor(BaseFeaturesExtractor):\n",
    "    def __init__(self, observation_space: gym.spaces.Box, features_dim: int = 64):\n",
    "        super(FlexibleFeatureExtractor, self).__init__(observation_space, features_dim=features_dim)\n",
    "        n_input = observation_space.shape[0]\n",
    "        self.net = nn.Sequential(\n",
    "            nn.Linear(n_input, 128),\n",
    "            nn.ReLU(),\n",
    "            nn.Linear(128, features_dim),\n",
    "            nn.ReLU()\n",
    "        )\n",
    "\n",
    "    def forward(self, observations: torch.Tensor) -> torch.Tensor:\n",
    "        return self.net(observations)\n",
    "\n",
    "def create_ppo_model(env):\n",
    "    policy_kwargs = dict(\n",
    "        features_extractor_class=FlexibleFeatureExtractor,\n",
    "        features_extractor_kwargs=dict(features_dim=64),\n",
    "    )\n",
    "    return PPO(\"MlpPolicy\", env, policy_kwargs=policy_kwargs, verbose=1)\n",
    "\n",
    "def generate_random_graph(num_nodes, edge_probability=0.2):\n",
    "    adjacency_matrix = np.zeros((num_nodes, num_nodes), dtype=int)\n",
    "    for i in range(num_nodes):\n",
    "        for j in range(i+1, num_nodes):\n",
    "            if np.random.random() < edge_probability:\n",
    "                adjacency_matrix[i][j] = adjacency_matrix[j][i] = 1\n",
    "    return adjacency_matrix.tolist()\n",
    "\n",
    "def visualize_graph_and_mis(adjacency_matrix, mis):\n",
    "    G = nx.Graph()\n",
    "    num_nodes = len(adjacency_matrix)\n",
    "    G.add_nodes_from(range(num_nodes))\n",
    "    for i in range(num_nodes):\n",
    "        for j in range(i+1, num_nodes):\n",
    "            if adjacency_matrix[i][j] == 1:\n",
    "                G.add_edge(i, j)\n",
    "\n",
    "    plt.figure(figsize=(15, 15))\n",
    "    pos = nx.spring_layout(G)\n",
    "\n",
    "    nx.draw_networkx_edges(G, pos, alpha=0.2)\n",
    "    nx.draw_networkx_nodes(G, pos, node_color='lightblue', node_size=300)\n",
    "    nx.draw_networkx_labels(G, pos, font_size=8)\n",
    "\n",
    "    nx.draw_networkx_nodes(G, pos, nodelist=list(mis), node_color='red', node_size=400)\n",
    "\n",
    "    plt.title(\"30-Node Graph with Maximum Independent Set (highlighted in red)\", fontsize=16)\n",
    "    plt.axis('off')\n",
    "    plt.tight_layout()\n",
    "    plt.show()\n",
    "\n",
    "\n",
    "def solve_and_visualize_mis(adjacency_matrix, training_steps=10000):\n",
    "    mis = solve_mis(adjacency_matrix, training_steps)\n",
    "    print(f\"Maximum Independent Set: {mis}\")\n",
    "    visualize_graph_and_mis(adjacency_matrix, mis)\n",
    "\n",
    "def solve_mis(adjacency_matrix, training_steps=10000):\n",
    "    # Create and wrap the environment\n",
    "    env = DummyVecEnv([lambda: FlexibleMISEnvironment(adjacency_matrix)])\n",
    "\n",
    "    # Create and train the agent\n",
    "    model = create_ppo_model(env)\n",
    "    model.learn(total_timesteps=training_steps)\n",
    "\n",
    "    # Test the trained agent\n",
    "    obs = env.reset()\n",
    "    done = False\n",
    "    mis = set()\n",
    "\n",
    "    while not done:\n",
    "        action, _states = model.predict(obs, deterministic=True)\n",
    "        obs, rewards, dones, infos = env.step(action)\n",
    "        done = dones[0]\n",
    "        if rewards[0] > 0:\n",
    "            mis.add(action[0])\n",
    "\n",
    "    return mis\n"
   ]
  },
  {
   "cell_type": "code",
   "execution_count": 5,
   "metadata": {},
   "outputs": [
    {
     "name": "stdout",
     "output_type": "stream",
     "text": [
      "Solving and visualizing small graph:\n"
     ]
    },
    {
     "ename": "NameError",
     "evalue": "name 'solve_and_visualize_mis' is not defined",
     "output_type": "error",
     "traceback": [
      "\u001b[0;31m---------------------------------------------------------------------------\u001b[0m",
      "\u001b[0;31mNameError\u001b[0m                                 Traceback (most recent call last)",
      "Cell \u001b[0;32mIn[5], line 10\u001b[0m\n\u001b[1;32m      2\u001b[0m small_graph \u001b[38;5;241m=\u001b[39m [\n\u001b[1;32m      3\u001b[0m     [\u001b[38;5;241m0\u001b[39m, \u001b[38;5;241m1\u001b[39m, \u001b[38;5;241m1\u001b[39m, \u001b[38;5;241m0\u001b[39m, \u001b[38;5;241m0\u001b[39m],\n\u001b[1;32m      4\u001b[0m     [\u001b[38;5;241m1\u001b[39m, \u001b[38;5;241m0\u001b[39m, \u001b[38;5;241m1\u001b[39m, \u001b[38;5;241m0\u001b[39m, \u001b[38;5;241m0\u001b[39m],\n\u001b[0;32m   (...)\u001b[0m\n\u001b[1;32m      7\u001b[0m     [\u001b[38;5;241m0\u001b[39m, \u001b[38;5;241m0\u001b[39m, \u001b[38;5;241m0\u001b[39m, \u001b[38;5;241m1\u001b[39m, \u001b[38;5;241m0\u001b[39m]\n\u001b[1;32m      8\u001b[0m ]\n\u001b[1;32m      9\u001b[0m \u001b[38;5;28mprint\u001b[39m(\u001b[38;5;124m\"\u001b[39m\u001b[38;5;124mSolving and visualizing small graph:\u001b[39m\u001b[38;5;124m\"\u001b[39m)\n\u001b[0;32m---> 10\u001b[0m solve_and_visualize_mis(small_graph)\n",
      "\u001b[0;31mNameError\u001b[0m: name 'solve_and_visualize_mis' is not defined"
     ]
    }
   ],
   "source": [
    "\n",
    "# Example usage\n",
    "small_graph = [\n",
    "    [0, 1, 1, 0, 0],\n",
    "    [1, 0, 1, 0, 0],\n",
    "    [1, 1, 0, 1, 0],\n",
    "    [0, 0, 1, 0, 1],\n",
    "    [0, 0, 0, 1, 0]\n",
    "]\n",
    "print(\"Solving and visualizing small graph:\")\n",
    "solve_and_visualize_mis(small_graph)\n"
   ]
  },
  {
   "cell_type": "code",
   "execution_count": 6,
   "metadata": {},
   "outputs": [
    {
     "name": "stdout",
     "output_type": "stream",
     "text": [
      "\n",
      "Solving and visualizing larger graph:\n"
     ]
    },
    {
     "ename": "NameError",
     "evalue": "name 'solve_and_visualize_mis' is not defined",
     "output_type": "error",
     "traceback": [
      "\u001b[0;31m---------------------------------------------------------------------------\u001b[0m",
      "\u001b[0;31mNameError\u001b[0m                                 Traceback (most recent call last)",
      "Cell \u001b[0;32mIn[6], line 12\u001b[0m\n\u001b[1;32m      1\u001b[0m larger_graph \u001b[38;5;241m=\u001b[39m [\n\u001b[1;32m      2\u001b[0m     [\u001b[38;5;241m0\u001b[39m, \u001b[38;5;241m1\u001b[39m, \u001b[38;5;241m1\u001b[39m, \u001b[38;5;241m0\u001b[39m, \u001b[38;5;241m0\u001b[39m, \u001b[38;5;241m1\u001b[39m, \u001b[38;5;241m0\u001b[39m],\n\u001b[1;32m      3\u001b[0m     [\u001b[38;5;241m1\u001b[39m, \u001b[38;5;241m0\u001b[39m, \u001b[38;5;241m1\u001b[39m, \u001b[38;5;241m0\u001b[39m, \u001b[38;5;241m0\u001b[39m, \u001b[38;5;241m0\u001b[39m, \u001b[38;5;241m1\u001b[39m],\n\u001b[0;32m   (...)\u001b[0m\n\u001b[1;32m      8\u001b[0m     [\u001b[38;5;241m0\u001b[39m, \u001b[38;5;241m1\u001b[39m, \u001b[38;5;241m0\u001b[39m, \u001b[38;5;241m0\u001b[39m, \u001b[38;5;241m1\u001b[39m, \u001b[38;5;241m0\u001b[39m, \u001b[38;5;241m0\u001b[39m]\n\u001b[1;32m      9\u001b[0m ]\n\u001b[1;32m     11\u001b[0m \u001b[38;5;28mprint\u001b[39m(\u001b[38;5;124m\"\u001b[39m\u001b[38;5;130;01m\\n\u001b[39;00m\u001b[38;5;124mSolving and visualizing larger graph:\u001b[39m\u001b[38;5;124m\"\u001b[39m)\n\u001b[0;32m---> 12\u001b[0m solve_and_visualize_mis(larger_graph, training_steps\u001b[38;5;241m=\u001b[39m\u001b[38;5;241m20000\u001b[39m)\n",
      "\u001b[0;31mNameError\u001b[0m: name 'solve_and_visualize_mis' is not defined"
     ]
    }
   ],
   "source": [
    "larger_graph = [\n",
    "    [0, 1, 1, 0, 0, 1, 0],\n",
    "    [1, 0, 1, 0, 0, 0, 1],\n",
    "    [1, 1, 0, 1, 0, 0, 0],\n",
    "    [0, 0, 1, 0, 1, 1, 0],\n",
    "    [0, 0, 0, 1, 0, 1, 1],\n",
    "    [1, 0, 0, 1, 1, 0, 0],\n",
    "    [0, 1, 0, 0, 1, 0, 0]\n",
    "]\n",
    "\n",
    "print(\"\\nSolving and visualizing larger graph:\")\n",
    "solve_and_visualize_mis(larger_graph, training_steps=20000)\n"
   ]
  },
  {
   "cell_type": "code",
   "execution_count": 7,
   "metadata": {},
   "outputs": [
    {
     "ename": "NameError",
     "evalue": "name 'generate_random_graph' is not defined",
     "output_type": "error",
     "traceback": [
      "\u001b[0;31m---------------------------------------------------------------------------\u001b[0m",
      "\u001b[0;31mNameError\u001b[0m                                 Traceback (most recent call last)",
      "Cell \u001b[0;32mIn[7], line 3\u001b[0m\n\u001b[1;32m      1\u001b[0m \u001b[38;5;66;03m# Generate a random 30-node graph\u001b[39;00m\n\u001b[1;32m      2\u001b[0m num_nodes \u001b[38;5;241m=\u001b[39m \u001b[38;5;241m30\u001b[39m\n\u001b[0;32m----> 3\u001b[0m random_graph \u001b[38;5;241m=\u001b[39m generate_random_graph(num_nodes)\n\u001b[1;32m      5\u001b[0m \u001b[38;5;28mprint\u001b[39m(\u001b[38;5;124m\"\u001b[39m\u001b[38;5;124mSolving and visualizing 30-node graph:\u001b[39m\u001b[38;5;124m\"\u001b[39m)\n\u001b[1;32m      6\u001b[0m solve_and_visualize_mis(random_graph, training_steps\u001b[38;5;241m=\u001b[39m\u001b[38;5;241m50000\u001b[39m)\n",
      "\u001b[0;31mNameError\u001b[0m: name 'generate_random_graph' is not defined"
     ]
    }
   ],
   "source": [
    "# Generate a random 30-node graph\n",
    "num_nodes = 30\n",
    "random_graph = generate_random_graph(num_nodes)\n",
    "\n",
    "print(\"Solving and visualizing 30-node graph:\")\n",
    "solve_and_visualize_mis(random_graph, training_steps=50000)"
   ]
  },
  {
   "cell_type": "code",
   "execution_count": null,
   "metadata": {},
   "outputs": [
    {
     "ename": "NameError",
     "evalue": "name 'generate_random_graph' is not defined",
     "output_type": "error",
     "traceback": [
      "\u001b[0;31m---------------------------------------------------------------------------\u001b[0m",
      "\u001b[0;31mNameError\u001b[0m                                 Traceback (most recent call last)",
      "Cell \u001b[0;32mIn[1], line 3\u001b[0m\n\u001b[1;32m      1\u001b[0m \u001b[38;5;66;03m# Generate a random 30-node graph\u001b[39;00m\n\u001b[1;32m      2\u001b[0m num_nodes \u001b[38;5;241m=\u001b[39m \u001b[38;5;241m100\u001b[39m\n\u001b[0;32m----> 3\u001b[0m random_graph \u001b[38;5;241m=\u001b[39m generate_random_graph(num_nodes)\n\u001b[1;32m      5\u001b[0m \u001b[38;5;28mprint\u001b[39m(\u001b[38;5;124m\"\u001b[39m\u001b[38;5;124mSolving and visualizing 30-node graph:\u001b[39m\u001b[38;5;124m\"\u001b[39m)\n\u001b[1;32m      6\u001b[0m solve_and_visualize_mis(random_graph, training_steps\u001b[38;5;241m=\u001b[39m\u001b[38;5;241m50000\u001b[39m\u001b[38;5;241m*\u001b[39m\u001b[38;5;241m2\u001b[39m)\n",
      "\u001b[0;31mNameError\u001b[0m: name 'generate_random_graph' is not defined"
     ]
    }
   ],
   "source": [
    "# Generate a random 30-node graph\n",
    "num_nodes = 100\n",
    "random_graph = generate_random_graph(num_nodes)\n",
    "\n",
    "print(\"Solving and visualizing 30-node graph:\")\n",
    "solve_and_visualize_mis(random_graph, training_steps=50000*2)"
   ]
  },
  {
   "cell_type": "code",
   "execution_count": null,
   "metadata": {},
   "outputs": [],
   "source": [
    "import networkx as nx\n",
    "import matplotlib.pyplot as plt\n",
    "import numpy as np\n",
    "\n",
    "def visualize_graph_from_adjacency_matrix(adjacency_matrix, title=\"Graph from Adjacency Matrix\"):\n",
    "    # Create a graph\n",
    "    G = nx.Graph()\n",
    "    \n",
    "    # Add edges based on the adjacency matrix\n",
    "    num_nodes = len(adjacency_matrix)\n",
    "    for i in range(num_nodes):\n",
    "        for j in range(i+1, num_nodes):  # Only upper triangle to avoid duplicates\n",
    "            if adjacency_matrix[i][j] == 1:\n",
    "                G.add_edge(i, j)\n",
    "    \n",
    "    # Set up the plot\n",
    "    plt.figure(figsize=(12, 8))\n",
    "    \n",
    "    # Use spring layout for node positioning\n",
    "    pos = nx.spring_layout(G, k=0.5, iterations=50)\n",
    "    \n",
    "    # Draw the graph\n",
    "    nx.draw_networkx_edges(G, pos, alpha=0.3)\n",
    "    nx.draw_networkx_nodes(G, pos, node_color='lightblue', node_size=500)\n",
    "    nx.draw_networkx_labels(G, pos, font_size=10, font_family='sans-serif')\n",
    "    \n",
    "    # Set title\n",
    "    plt.title(f\"{title}\\n{num_nodes} nodes, {G.number_of_edges()} edges\", fontsize=16)\n",
    "    \n",
    "    # Remove axis\n",
    "    plt.axis('off')\n",
    "    \n",
    "    # Show the plot\n",
    "    plt.tight_layout()\n",
    "    plt.show()\n",
    "\n",
    "    return G\n",
    "\n"
   ]
  }
 ],
 "metadata": {
  "kernelspec": {
   "display_name": "base",
   "language": "python",
   "name": "python3"
  },
  "language_info": {
   "codemirror_mode": {
    "name": "ipython",
    "version": 3
   },
   "file_extension": ".py",
   "mimetype": "text/x-python",
   "name": "python",
   "nbconvert_exporter": "python",
   "pygments_lexer": "ipython3",
   "version": "3.11.5"
  }
 },
 "nbformat": 4,
 "nbformat_minor": 2
}
