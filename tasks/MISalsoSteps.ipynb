{
 "cells": [
  {
   "cell_type": "code",
   "execution_count": 7,
   "metadata": {},
   "outputs": [],
   "source": [
    "import networkx as nx\n",
    "import matplotlib.pyplot as plt\n",
    "import os\n",
    "from datetime import datetime\n",
    "import imageio\n",
    "from PIL import Image\n",
    "\n",
    "def mis(G, output_folder, start_number, full_output=True):\n",
    "    step_counter = [start_number - 1]\n",
    "    image_files = []\n",
    "    total_steps = 0\n",
    "    line10_calls = 0\n",
    "\n",
    "    def save_visualize_step(G, title, description, highlight_nodes=None):\n",
    "        nonlocal total_steps\n",
    "        step_counter[0] += 1\n",
    "        total_steps += 1\n",
    "        if not full_output:\n",
    "            return\n",
    "        \n",
    "        pos = nx.spring_layout(G)\n",
    "        plt.figure(figsize=(12, 9))\n",
    "        nx.draw(G, pos, with_labels=True, node_color='lightblue', node_size=500)\n",
    "        if highlight_nodes:\n",
    "            nx.draw_networkx_nodes(G, pos, nodelist=highlight_nodes, node_color='red', node_size=600)\n",
    "        plt.title(f\"Step {step_counter[0]}: {title}\\n{description}\\n\"\n",
    "                  f\"Nodes: {len(G)}, Edges: {G.number_of_edges()}\", wrap=True)\n",
    "        filename = f\"{output_folder}/{step_counter[0]:03d}_graph_{len(G)}nodes_{G.number_of_edges()}edges_MIS{len(highlight_nodes) if highlight_nodes else 'unknown'}.png\"\n",
    "        plt.savefig(filename, dpi=300, bbox_inches='tight')\n",
    "        plt.close()\n",
    "        \n",
    "        with Image.open(filename) as img:\n",
    "            img = img.resize((1200, 900), Image.LANCZOS)\n",
    "            img.save(filename)\n",
    "        \n",
    "        image_files.append(filename)\n",
    "        print(f\"Saved: {filename}\")\n",
    "\n",
    "    if len(G) == 0:\n",
    "        save_visualize_step(G, \"Empty Graph\", \"The graph is empty. MIS size is 0.\")\n",
    "        return 0, image_files, total_steps, line10_calls\n",
    "\n",
    "    save_visualize_step(G, \"Initial Graph\", \"Starting the MIS algorithm with the original graph.\")\n",
    "\n",
    "    max_degree = max(dict(G.degree()).values())\n",
    "    if max_degree <= 2:\n",
    "        mis_set = nx.maximal_independent_set(G)\n",
    "        #note: the maximal independent set of graphs with maximum degree 2 is the same\n",
    "        # as its maximum independent set\n",
    "        save_visualize_step(G, \"MIS for Graph with Max Degree <= 2\", \n",
    "                            f\"Found MIS of size {len(mis_set)}. When the maximum degree is 2 or less, we can efficiently compute the MIS.\",\n",
    "                            mis_set)\n",
    "        return len(mis_set), image_files, total_steps, line10_calls\n",
    "\n",
    "    degree_one_nodes = [n for n, d in G.degree() if d == 1]\n",
    "    if degree_one_nodes:\n",
    "        v = degree_one_nodes[0]\n",
    "        G_minus_N_v = G.copy()\n",
    "        G_minus_N_v.remove_nodes_from(list(G.neighbors(v)) + [v])\n",
    "        save_visualize_step(G_minus_N_v, f\"Removed Node {v} (Degree 1) and Its Neighbors\", \n",
    "                            f\"When we find a node of degree 1, we include it in the MIS and remove its neighbor. This reduces the problem size.\")\n",
    "        sub_mis_size, sub_image_files, sub_steps, sub_line10 = mis(G_minus_N_v, output_folder, step_counter[0] + 1, full_output)\n",
    "        image_files.extend(sub_image_files)\n",
    "        total_steps += sub_steps\n",
    "        #line10_calls += sub_line10\n",
    "        return 1 + sub_mis_size, image_files, total_steps, line10_calls\n",
    "\n",
    "    if not nx.is_connected(G):\n",
    "        components = list(nx.connected_components(G))\n",
    "        G1 = G.subgraph(components[0])\n",
    "        G_minus_G1 = G.copy()\n",
    "        G_minus_G1.remove_nodes_from(components[0])\n",
    "        save_visualize_step(G1, \"Connected Component G1\", \n",
    "                            \"The graph is not connected. We solve MIS for each connected component separately.\")\n",
    "        save_visualize_step(G_minus_G1, \"Remaining Graph after Removing G1\", \n",
    "                            \"We'll solve MIS for this part separately and combine the results.\")\n",
    "        sub_mis_size1, sub_image_files1, sub_steps1, sub_line10_1 = mis(G1, output_folder, step_counter[0] + 1, full_output)\n",
    "        sub_mis_size2, sub_image_files2, sub_steps2, sub_line10_2 = mis(G_minus_G1, output_folder, step_counter[0] + len(sub_image_files1) + 1, full_output)\n",
    "        image_files.extend(sub_image_files1)\n",
    "        image_files.extend(sub_image_files2)\n",
    "        total_steps += sub_steps1 + sub_steps2\n",
    "        #line10_calls += sub_line10_1 + sub_line10_2\n",
    "        return sub_mis_size1 + sub_mis_size2, image_files, total_steps, line10_calls\n",
    "\n",
    "    max_degree_node = max(G.degree(), key=lambda x: x[1])[0]\n",
    "    G_minus_N_v = G.copy()\n",
    "    G_minus_N_v.remove_nodes_from(list(G.neighbors(max_degree_node)) + [max_degree_node])\n",
    "    G_minus_v = G.copy()\n",
    "    G_minus_v.remove_node(max_degree_node)\n",
    "    \n",
    "    save_visualize_step(G_minus_N_v, f\"Removed Node {max_degree_node} (Max Degree) and Its Neighbors\", \n",
    "                        f\"We're exploring the case where node {max_degree_node} is in the MIS. We remove it and its neighbors from the graph.\")\n",
    "    save_visualize_step(G_minus_v, f\"Removed Only Node {max_degree_node}\", \n",
    "                        f\"We're also exploring the case where node {max_degree_node} is not in the MIS. We only remove it from the graph.\")\n",
    "    \n",
    "    line10_calls += 1\n",
    "    sub_mis_size1, sub_image_files1, sub_steps1, sub_line10_1 = mis(G_minus_N_v, output_folder, step_counter[0] + 1, full_output)\n",
    "    sub_mis_size2, sub_image_files2, sub_steps2, sub_line10_2 = mis(G_minus_v, output_folder, step_counter[0] + len(sub_image_files1) + 1, full_output)\n",
    "    image_files.extend(sub_image_files1)\n",
    "    image_files.extend(sub_image_files2)\n",
    "    total_steps += sub_steps1 + sub_steps2\n",
    "    line10_calls += sub_line10_1 + sub_line10_2\n",
    "    return max(1 + sub_mis_size1, sub_mis_size2), image_files, total_steps, line10_calls\n",
    "\n",
    "def create_video(image_files, output_folder, fps=1):\n",
    "    video_path = os.path.join(output_folder, \"mis_algorithm_progress.mp4\")\n",
    "    with imageio.get_writer(video_path, fps=fps) as writer:\n",
    "        for filename in sorted(image_files):\n",
    "            image = imageio.imread(filename)\n",
    "            writer.append_data(image)\n",
    "    print(f\"Video saved: {video_path}\")\n",
    "\n",
    "def run_mis_algorithm(G, solution_name, start_number, full_output=True):\n",
    "    main_folder = \"MIS_algo_graph\"\n",
    "    timestamp = datetime.now().strftime(\"%Y%m%d_%H%M%S\")\n",
    "    solution_folder = f\"{solution_name}_{timestamp}\"\n",
    "    output_folder = os.path.join(main_folder, solution_folder)\n",
    "    os.makedirs(output_folder, exist_ok=True)\n",
    "\n",
    "    # Find MIS\n",
    "    mis_size, image_files, total_steps, line10_calls = mis(G, output_folder, start_number, full_output)\n",
    "\n",
    "    print(f\"Size of Maximum Independent Set: {mis_size}\")\n",
    "    print(f\"Total number of steps: {total_steps}\")\n",
    "    print(f\"Number of times line 10 was called: {line10_calls}\")\n",
    "\n",
    "    # Visualize final graph with MIS\n",
    "    mis_nodes = nx.maximal_independent_set(G)\n",
    "    pos = nx.spring_layout(G)\n",
    "    plt.figure(figsize=(12, 9))\n",
    "    nx.draw(G, pos, with_labels=True, node_color='lightblue', node_size=500)\n",
    "    nx.draw_networkx_nodes(G, pos, nodelist=mis_nodes, node_color='red', node_size=600)\n",
    "    plt.title(f\"Final Graph with Maximum Independent Set\\nMIS size: {len(mis_nodes)}\\n\"\n",
    "              f\"Nodes: {len(G)}, Edges: {G.number_of_edges()}\\n\"\n",
    "              f\"Total steps: {total_steps}, Line 10 calls: {line10_calls}\\n\"\n",
    "              f\"Red nodes represent the Maximum Independent Set. These nodes are not connected to each other.\",\n",
    "              wrap=True)\n",
    "    final_filename = os.path.join(output_folder, f\"final_graph_MIS{len(mis_nodes)}_steps{total_steps}.png\")\n",
    "    plt.savefig(final_filename, dpi=300, bbox_inches='tight')\n",
    "    plt.close()\n",
    "    \n",
    "    with Image.open(final_filename) as img:\n",
    "        img = img.resize((1200, 900), Image.LANCZOS)\n",
    "        img.save(final_filename)\n",
    "    \n",
    "    print(f\"Saved final graph: {final_filename}\")\n",
    "    \n",
    "    if full_output:\n",
    "        image_files.append(final_filename)\n",
    "        create_video(image_files, output_folder)\n",
    "\n",
    "    return mis_size, output_folder, total_steps, line10_calls"
   ]
  },
  {
   "cell_type": "code",
   "execution_count": 14,
   "metadata": {},
   "outputs": [],
   "source": [
    "# Example usage\n",
    "# random generate graph with probability\n",
    "G1 = nx.gnp_random_graph(10, 0.3)"
   ]
  },
  {
   "cell_type": "code",
   "execution_count": 15,
   "metadata": {},
   "outputs": [
    {
     "name": "stdout",
     "output_type": "stream",
     "text": [
      "\n",
      "Running with minimal output:\n",
      "Size of Maximum Independent Set: 5\n",
      "Total number of steps: 12\n",
      "Number of times line 10 was called: 0\n",
      "Saved final graph: MIS_algo_graph/random_graph_10_15_minimal_20240729_162434/final_graph_MIS4_steps12.png\n",
      "Minimal output solution saved in: MIS_algo_graph/random_graph_10_15_minimal_20240729_162434\n",
      "Total steps: 12\n",
      "Line 10 calls: 0\n"
     ]
    }
   ],
   "source": [
    "print(\"\\nRunning with minimal output:\")\n",
    "mis_size2, folder2, total_steps2, line10_calls2 = run_mis_algorithm(G1, \"random_graph_10_15_minimal\", start_number=1, full_output=False)\n",
    "print(f\"Minimal output solution saved in: {folder2}\")\n",
    "print(f\"Total steps: {total_steps2}\")\n",
    "print(f\"Line 10 calls: {line10_calls2}\")"
   ]
  },
  {
   "cell_type": "code",
   "execution_count": 10,
   "metadata": {},
   "outputs": [
    {
     "name": "stdout",
     "output_type": "stream",
     "text": [
      "Running with full output:\n",
      "Saved: MIS_algo_graph/random_graph_10_15_full_20240729_160149/001_graph_10nodes_12edges_MISunknown.png\n",
      "Saved: MIS_algo_graph/random_graph_10_15_full_20240729_160149/002_graph_8nodes_11edges_MISunknown.png\n",
      "Saved: MIS_algo_graph/random_graph_10_15_full_20240729_160149/003_graph_8nodes_11edges_MISunknown.png\n",
      "Saved: MIS_algo_graph/random_graph_10_15_full_20240729_160149/004_graph_6nodes_7edges_MISunknown.png\n",
      "Saved: MIS_algo_graph/random_graph_10_15_full_20240729_160149/005_graph_6nodes_7edges_MISunknown.png\n",
      "Saved: MIS_algo_graph/random_graph_10_15_full_20240729_160149/006_graph_1nodes_0edges_MISunknown.png\n",
      "Saved: MIS_algo_graph/random_graph_10_15_full_20240729_160149/007_graph_5nodes_7edges_MISunknown.png\n",
      "Saved: MIS_algo_graph/random_graph_10_15_full_20240729_160149/008_graph_1nodes_0edges_MISunknown.png\n",
      "Saved: MIS_algo_graph/random_graph_10_15_full_20240729_160149/009_graph_1nodes_0edges_MIS1.png\n",
      "Saved: MIS_algo_graph/random_graph_10_15_full_20240729_160149/010_graph_5nodes_7edges_MISunknown.png\n",
      "Saved: MIS_algo_graph/random_graph_10_15_full_20240729_160149/011_graph_0nodes_0edges_MISunknown.png\n",
      "Saved: MIS_algo_graph/random_graph_10_15_full_20240729_160149/012_graph_4nodes_3edges_MISunknown.png\n",
      "Saved: MIS_algo_graph/random_graph_10_15_full_20240729_160149/013_graph_0nodes_0edges_MISunknown.png\n",
      "Saved: MIS_algo_graph/random_graph_10_15_full_20240729_160149/014_graph_4nodes_3edges_MISunknown.png\n",
      "Saved: MIS_algo_graph/random_graph_10_15_full_20240729_160149/015_graph_4nodes_3edges_MIS2.png\n",
      "Size of Maximum Independent Set: 5\n",
      "Total number of steps: 15\n",
      "Number of times line 10 was called: 0\n",
      "Saved final graph: MIS_algo_graph/random_graph_10_15_full_20240729_160149/final_graph_MIS5_steps15.png\n"
     ]
    },
    {
     "name": "stderr",
     "output_type": "stream",
     "text": [
      "/var/folders/p2/tltdzcl142g2b8gt5mll07w00000gn/T/ipykernel_13041/29961957.py:109: DeprecationWarning: Starting with ImageIO v3 the behavior of this function will switch to that of iio.v3.imread. To keep the current behavior (and make this warning disappear) use `import imageio.v2 as imageio` or call `imageio.v2.imread` directly.\n",
      "  image = imageio.imread(filename)\n",
      "IMAGEIO FFMPEG_WRITER WARNING: input image is not divisible by macro_block_size=16, resizing from (1200, 900) to (1200, 912) to ensure video compatibility with most codecs and players. To prevent resizing, make your input image divisible by the macro_block_size or set the macro_block_size to 1 (risking incompatibility).\n",
      "/var/folders/p2/tltdzcl142g2b8gt5mll07w00000gn/T/ipykernel_13041/29961957.py:109: DeprecationWarning: Starting with ImageIO v3 the behavior of this function will switch to that of iio.v3.imread. To keep the current behavior (and make this warning disappear) use `import imageio.v2 as imageio` or call `imageio.v2.imread` directly.\n",
      "  image = imageio.imread(filename)\n",
      "[rawvideo @ 0x121808200] Stream #0: not enough frames to estimate rate; consider increasing probesize\n"
     ]
    },
    {
     "name": "stdout",
     "output_type": "stream",
     "text": [
      "Video saved: MIS_algo_graph/random_graph_10_15_full_20240729_160149/mis_algorithm_progress.mp4\n",
      "Full output solution saved in: MIS_algo_graph/random_graph_10_15_full_20240729_160149\n",
      "Total steps: 15\n",
      "Line 10 calls: 0\n"
     ]
    }
   ],
   "source": [
    "\n",
    "# print(\"Running with full output:\")\n",
    "# mis_size1, folder1, total_steps1, line10_calls1 = run_mis_algorithm(G1, \"random_graph_10_15_full\", start_number=1, full_output=True)\n",
    "# print(f\"Full output solution saved in: {folder1}\")\n",
    "# print(f\"Total steps: {total_steps1}\")\n",
    "# print(f\"Line 10 calls: {line10_calls1}\")"
   ]
  },
  {
   "cell_type": "code",
   "execution_count": 37,
   "metadata": {},
   "outputs": [
    {
     "data": {
      "text/plain": [
       "[1, 4, 7, 6]"
      ]
     },
     "execution_count": 37,
     "metadata": {},
     "output_type": "execute_result"
    }
   ],
   "source": [
    "nx.maximal_independent_set(G1)"
   ]
  },
  {
   "cell_type": "code",
   "execution_count": 38,
   "metadata": {},
   "outputs": [
    {
     "ename": "ModuleNotFoundError",
     "evalue": "No module named 'scipy'",
     "output_type": "error",
     "traceback": [
      "\u001b[0;31m---------------------------------------------------------------------------\u001b[0m",
      "\u001b[0;31mModuleNotFoundError\u001b[0m                       Traceback (most recent call last)",
      "Cell \u001b[0;32mIn[38], line 2\u001b[0m\n\u001b[1;32m      1\u001b[0m \u001b[38;5;66;03m# make g1 in to adjacency matrix\u001b[39;00m\n\u001b[0;32m----> 2\u001b[0m G1_adj \u001b[38;5;241m=\u001b[39m \u001b[43mnx\u001b[49m\u001b[38;5;241;43m.\u001b[39;49m\u001b[43madjacency_matrix\u001b[49m\u001b[43m(\u001b[49m\u001b[43mG1\u001b[49m\u001b[43m)\u001b[49m\u001b[38;5;241m.\u001b[39mtodense()\n",
      "File \u001b[0;32m~/anaconda3/envs/graph-generator/lib/python3.11/site-packages/networkx/utils/decorators.py:789\u001b[0m, in \u001b[0;36margmap.__call__.<locals>.func\u001b[0;34m(_argmap__wrapper, *args, **kwargs)\u001b[0m\n\u001b[1;32m    788\u001b[0m \u001b[38;5;28;01mdef\u001b[39;00m \u001b[38;5;21mfunc\u001b[39m(\u001b[38;5;241m*\u001b[39margs, __wrapper\u001b[38;5;241m=\u001b[39m\u001b[38;5;28;01mNone\u001b[39;00m, \u001b[38;5;241m*\u001b[39m\u001b[38;5;241m*\u001b[39mkwargs):\n\u001b[0;32m--> 789\u001b[0m     \u001b[38;5;28;01mreturn\u001b[39;00m \u001b[43margmap\u001b[49m\u001b[38;5;241;43m.\u001b[39;49m\u001b[43m_lazy_compile\u001b[49m\u001b[43m(\u001b[49m\u001b[43m__wrapper\u001b[49m\u001b[43m)\u001b[49m\u001b[43m(\u001b[49m\u001b[38;5;241;43m*\u001b[39;49m\u001b[43margs\u001b[49m\u001b[43m,\u001b[49m\u001b[43m \u001b[49m\u001b[38;5;241;43m*\u001b[39;49m\u001b[38;5;241;43m*\u001b[39;49m\u001b[43mkwargs\u001b[49m\u001b[43m)\u001b[49m\n",
      "File \u001b[0;32m<class 'networkx.utils.decorators.argmap'> compilation 37:3\u001b[0m, in \u001b[0;36margmap_adjacency_matrix_34\u001b[0;34m(G, nodelist, dtype, weight, backend, **backend_kwargs)\u001b[0m\n\u001b[1;32m      1\u001b[0m \u001b[38;5;28;01mimport\u001b[39;00m \u001b[38;5;21;01mbz2\u001b[39;00m\n\u001b[1;32m      2\u001b[0m \u001b[38;5;28;01mimport\u001b[39;00m \u001b[38;5;21;01mcollections\u001b[39;00m\n\u001b[0;32m----> 3\u001b[0m \u001b[38;5;28;01mimport\u001b[39;00m \u001b[38;5;21;01mgzip\u001b[39;00m\n\u001b[1;32m      4\u001b[0m \u001b[38;5;28;01mimport\u001b[39;00m \u001b[38;5;21;01minspect\u001b[39;00m\n\u001b[1;32m      5\u001b[0m \u001b[38;5;28;01mimport\u001b[39;00m \u001b[38;5;21;01mitertools\u001b[39;00m\n",
      "File \u001b[0;32m~/anaconda3/envs/graph-generator/lib/python3.11/site-packages/networkx/utils/backends.py:633\u001b[0m, in \u001b[0;36m_dispatchable.__call__\u001b[0;34m(self, backend, *args, **kwargs)\u001b[0m\n\u001b[1;32m    628\u001b[0m \u001b[38;5;250m\u001b[39m\u001b[38;5;124;03m\"\"\"Returns the result of the original function, or the backend function if\u001b[39;00m\n\u001b[1;32m    629\u001b[0m \u001b[38;5;124;03mthe backend is specified and that backend implements `func`.\"\"\"\u001b[39;00m\n\u001b[1;32m    631\u001b[0m \u001b[38;5;28;01mif\u001b[39;00m \u001b[38;5;129;01mnot\u001b[39;00m backends:\n\u001b[1;32m    632\u001b[0m     \u001b[38;5;66;03m# Fast path if no backends are installed\u001b[39;00m\n\u001b[0;32m--> 633\u001b[0m     \u001b[38;5;28;01mreturn\u001b[39;00m \u001b[38;5;28;43mself\u001b[39;49m\u001b[38;5;241;43m.\u001b[39;49m\u001b[43morig_func\u001b[49m\u001b[43m(\u001b[49m\u001b[38;5;241;43m*\u001b[39;49m\u001b[43margs\u001b[49m\u001b[43m,\u001b[49m\u001b[43m \u001b[49m\u001b[38;5;241;43m*\u001b[39;49m\u001b[38;5;241;43m*\u001b[39;49m\u001b[43mkwargs\u001b[49m\u001b[43m)\u001b[49m\n\u001b[1;32m    635\u001b[0m \u001b[38;5;66;03m# Use `backend_name` in this function instead of `backend`\u001b[39;00m\n\u001b[1;32m    636\u001b[0m backend_name \u001b[38;5;241m=\u001b[39m backend\n",
      "File \u001b[0;32m~/anaconda3/envs/graph-generator/lib/python3.11/site-packages/networkx/linalg/graphmatrix.py:166\u001b[0m, in \u001b[0;36madjacency_matrix\u001b[0;34m(G, nodelist, dtype, weight)\u001b[0m\n\u001b[1;32m    107\u001b[0m \u001b[38;5;129m@nx\u001b[39m\u001b[38;5;241m.\u001b[39m_dispatchable(edge_attrs\u001b[38;5;241m=\u001b[39m\u001b[38;5;124m\"\u001b[39m\u001b[38;5;124mweight\u001b[39m\u001b[38;5;124m\"\u001b[39m)\n\u001b[1;32m    108\u001b[0m \u001b[38;5;28;01mdef\u001b[39;00m \u001b[38;5;21madjacency_matrix\u001b[39m(G, nodelist\u001b[38;5;241m=\u001b[39m\u001b[38;5;28;01mNone\u001b[39;00m, dtype\u001b[38;5;241m=\u001b[39m\u001b[38;5;28;01mNone\u001b[39;00m, weight\u001b[38;5;241m=\u001b[39m\u001b[38;5;124m\"\u001b[39m\u001b[38;5;124mweight\u001b[39m\u001b[38;5;124m\"\u001b[39m):\n\u001b[1;32m    109\u001b[0m \u001b[38;5;250m    \u001b[39m\u001b[38;5;124;03m\"\"\"Returns adjacency matrix of G.\u001b[39;00m\n\u001b[1;32m    110\u001b[0m \n\u001b[1;32m    111\u001b[0m \u001b[38;5;124;03m    Parameters\u001b[39;00m\n\u001b[0;32m   (...)\u001b[0m\n\u001b[1;32m    164\u001b[0m \u001b[38;5;124;03m    adjacency_spectrum\u001b[39;00m\n\u001b[1;32m    165\u001b[0m \u001b[38;5;124;03m    \"\"\"\u001b[39;00m\n\u001b[0;32m--> 166\u001b[0m     \u001b[38;5;28;01mreturn\u001b[39;00m \u001b[43mnx\u001b[49m\u001b[38;5;241;43m.\u001b[39;49m\u001b[43mto_scipy_sparse_array\u001b[49m\u001b[43m(\u001b[49m\u001b[43mG\u001b[49m\u001b[43m,\u001b[49m\u001b[43m \u001b[49m\u001b[43mnodelist\u001b[49m\u001b[38;5;241;43m=\u001b[39;49m\u001b[43mnodelist\u001b[49m\u001b[43m,\u001b[49m\u001b[43m \u001b[49m\u001b[43mdtype\u001b[49m\u001b[38;5;241;43m=\u001b[39;49m\u001b[43mdtype\u001b[49m\u001b[43m,\u001b[49m\u001b[43m \u001b[49m\u001b[43mweight\u001b[49m\u001b[38;5;241;43m=\u001b[39;49m\u001b[43mweight\u001b[49m\u001b[43m)\u001b[49m\n",
      "File \u001b[0;32m~/anaconda3/envs/graph-generator/lib/python3.11/site-packages/networkx/utils/decorators.py:789\u001b[0m, in \u001b[0;36margmap.__call__.<locals>.func\u001b[0;34m(_argmap__wrapper, *args, **kwargs)\u001b[0m\n\u001b[1;32m    788\u001b[0m \u001b[38;5;28;01mdef\u001b[39;00m \u001b[38;5;21mfunc\u001b[39m(\u001b[38;5;241m*\u001b[39margs, __wrapper\u001b[38;5;241m=\u001b[39m\u001b[38;5;28;01mNone\u001b[39;00m, \u001b[38;5;241m*\u001b[39m\u001b[38;5;241m*\u001b[39mkwargs):\n\u001b[0;32m--> 789\u001b[0m     \u001b[38;5;28;01mreturn\u001b[39;00m \u001b[43margmap\u001b[49m\u001b[38;5;241;43m.\u001b[39;49m\u001b[43m_lazy_compile\u001b[49m\u001b[43m(\u001b[49m\u001b[43m__wrapper\u001b[49m\u001b[43m)\u001b[49m\u001b[43m(\u001b[49m\u001b[38;5;241;43m*\u001b[39;49m\u001b[43margs\u001b[49m\u001b[43m,\u001b[49m\u001b[43m \u001b[49m\u001b[38;5;241;43m*\u001b[39;49m\u001b[38;5;241;43m*\u001b[39;49m\u001b[43mkwargs\u001b[49m\u001b[43m)\u001b[49m\n",
      "File \u001b[0;32m<class 'networkx.utils.decorators.argmap'> compilation 41:3\u001b[0m, in \u001b[0;36margmap_to_scipy_sparse_array_38\u001b[0;34m(G, nodelist, dtype, weight, format, backend, **backend_kwargs)\u001b[0m\n\u001b[1;32m      1\u001b[0m \u001b[38;5;28;01mimport\u001b[39;00m \u001b[38;5;21;01mbz2\u001b[39;00m\n\u001b[1;32m      2\u001b[0m \u001b[38;5;28;01mimport\u001b[39;00m \u001b[38;5;21;01mcollections\u001b[39;00m\n\u001b[0;32m----> 3\u001b[0m \u001b[38;5;28;01mimport\u001b[39;00m \u001b[38;5;21;01mgzip\u001b[39;00m\n\u001b[1;32m      4\u001b[0m \u001b[38;5;28;01mimport\u001b[39;00m \u001b[38;5;21;01minspect\u001b[39;00m\n\u001b[1;32m      5\u001b[0m \u001b[38;5;28;01mimport\u001b[39;00m \u001b[38;5;21;01mitertools\u001b[39;00m\n",
      "File \u001b[0;32m~/anaconda3/envs/graph-generator/lib/python3.11/site-packages/networkx/utils/backends.py:633\u001b[0m, in \u001b[0;36m_dispatchable.__call__\u001b[0;34m(self, backend, *args, **kwargs)\u001b[0m\n\u001b[1;32m    628\u001b[0m \u001b[38;5;250m\u001b[39m\u001b[38;5;124;03m\"\"\"Returns the result of the original function, or the backend function if\u001b[39;00m\n\u001b[1;32m    629\u001b[0m \u001b[38;5;124;03mthe backend is specified and that backend implements `func`.\"\"\"\u001b[39;00m\n\u001b[1;32m    631\u001b[0m \u001b[38;5;28;01mif\u001b[39;00m \u001b[38;5;129;01mnot\u001b[39;00m backends:\n\u001b[1;32m    632\u001b[0m     \u001b[38;5;66;03m# Fast path if no backends are installed\u001b[39;00m\n\u001b[0;32m--> 633\u001b[0m     \u001b[38;5;28;01mreturn\u001b[39;00m \u001b[38;5;28;43mself\u001b[39;49m\u001b[38;5;241;43m.\u001b[39;49m\u001b[43morig_func\u001b[49m\u001b[43m(\u001b[49m\u001b[38;5;241;43m*\u001b[39;49m\u001b[43margs\u001b[49m\u001b[43m,\u001b[49m\u001b[43m \u001b[49m\u001b[38;5;241;43m*\u001b[39;49m\u001b[38;5;241;43m*\u001b[39;49m\u001b[43mkwargs\u001b[49m\u001b[43m)\u001b[49m\n\u001b[1;32m    635\u001b[0m \u001b[38;5;66;03m# Use `backend_name` in this function instead of `backend`\u001b[39;00m\n\u001b[1;32m    636\u001b[0m backend_name \u001b[38;5;241m=\u001b[39m backend\n",
      "File \u001b[0;32m~/anaconda3/envs/graph-generator/lib/python3.11/site-packages/networkx/convert_matrix.py:568\u001b[0m, in \u001b[0;36mto_scipy_sparse_array\u001b[0;34m(G, nodelist, dtype, weight, format)\u001b[0m\n\u001b[1;32m    487\u001b[0m \u001b[38;5;129m@nx\u001b[39m\u001b[38;5;241m.\u001b[39m_dispatchable(edge_attrs\u001b[38;5;241m=\u001b[39m\u001b[38;5;124m\"\u001b[39m\u001b[38;5;124mweight\u001b[39m\u001b[38;5;124m\"\u001b[39m)\n\u001b[1;32m    488\u001b[0m \u001b[38;5;28;01mdef\u001b[39;00m \u001b[38;5;21mto_scipy_sparse_array\u001b[39m(G, nodelist\u001b[38;5;241m=\u001b[39m\u001b[38;5;28;01mNone\u001b[39;00m, dtype\u001b[38;5;241m=\u001b[39m\u001b[38;5;28;01mNone\u001b[39;00m, weight\u001b[38;5;241m=\u001b[39m\u001b[38;5;124m\"\u001b[39m\u001b[38;5;124mweight\u001b[39m\u001b[38;5;124m\"\u001b[39m, \u001b[38;5;28mformat\u001b[39m\u001b[38;5;241m=\u001b[39m\u001b[38;5;124m\"\u001b[39m\u001b[38;5;124mcsr\u001b[39m\u001b[38;5;124m\"\u001b[39m):\n\u001b[1;32m    489\u001b[0m \u001b[38;5;250m    \u001b[39m\u001b[38;5;124;03m\"\"\"Returns the graph adjacency matrix as a SciPy sparse array.\u001b[39;00m\n\u001b[1;32m    490\u001b[0m \n\u001b[1;32m    491\u001b[0m \u001b[38;5;124;03m    Parameters\u001b[39;00m\n\u001b[0;32m   (...)\u001b[0m\n\u001b[1;32m    566\u001b[0m \u001b[38;5;124;03m       https://docs.scipy.org/doc/scipy/reference/sparse.html\u001b[39;00m\n\u001b[1;32m    567\u001b[0m \u001b[38;5;124;03m    \"\"\"\u001b[39;00m\n\u001b[0;32m--> 568\u001b[0m     \u001b[38;5;28;01mimport\u001b[39;00m \u001b[38;5;21;01mscipy\u001b[39;00m \u001b[38;5;28;01mas\u001b[39;00m \u001b[38;5;21;01msp\u001b[39;00m\n\u001b[1;32m    570\u001b[0m     \u001b[38;5;28;01mif\u001b[39;00m \u001b[38;5;28mlen\u001b[39m(G) \u001b[38;5;241m==\u001b[39m \u001b[38;5;241m0\u001b[39m:\n\u001b[1;32m    571\u001b[0m         \u001b[38;5;28;01mraise\u001b[39;00m nx\u001b[38;5;241m.\u001b[39mNetworkXError(\u001b[38;5;124m\"\u001b[39m\u001b[38;5;124mGraph has no nodes or edges\u001b[39m\u001b[38;5;124m\"\u001b[39m)\n",
      "\u001b[0;31mModuleNotFoundError\u001b[0m: No module named 'scipy'"
     ]
    }
   ],
   "source": [
    "# make g1 in to adjacency matrix\n",
    "G1_adj = nx.adjacency_matrix(G1).todense()"
   ]
  },
  {
   "cell_type": "code",
   "execution_count": null,
   "metadata": {},
   "outputs": [],
   "source": []
  }
 ],
 "metadata": {
  "kernelspec": {
   "display_name": "base",
   "language": "python",
   "name": "python3"
  },
  "language_info": {
   "codemirror_mode": {
    "name": "ipython",
    "version": 3
   },
   "file_extension": ".py",
   "mimetype": "text/x-python",
   "name": "python",
   "nbconvert_exporter": "python",
   "pygments_lexer": "ipython3",
   "version": "3.11.9"
  }
 },
 "nbformat": 4,
 "nbformat_minor": 2
}
